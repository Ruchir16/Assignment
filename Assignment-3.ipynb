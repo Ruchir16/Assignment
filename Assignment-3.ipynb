{
 "cells": [
  {
   "cell_type": "markdown",
   "metadata": {},
   "source": [
    "1.1 Write a Python Program to implement your own myreduce() function which works exactly like Python's built-in function reduce()"
   ]
  },
  {
   "cell_type": "code",
   "execution_count": 1,
   "metadata": {},
   "outputs": [
    {
     "data": {
      "text/plain": [
       "61"
      ]
     },
     "execution_count": 1,
     "metadata": {},
     "output_type": "execute_result"
    }
   ],
   "source": [
    "def myreduce(own_func, lst):\n",
    "    result = lst[0]\n",
    "    for item in lst[1:]:\n",
    "        result = own_func(result, item)\n",
    "    return result\n",
    "  \n",
    "def sum(x,y):\n",
    "    return x + y\n",
    "\n",
    "myreduce(sum, [1,6,2,8,16,28])"
   ]
  },
  {
   "cell_type": "markdown",
   "metadata": {},
   "source": [
    "1.2 Write a Python program to implement your own myfilter() function which works exactly like Python's built-in function filter()"
   ]
  },
  {
   "cell_type": "code",
   "execution_count": 2,
   "metadata": {},
   "outputs": [
    {
     "data": {
      "text/plain": [
       "[1, 2, 3, 4, 5]"
      ]
     },
     "execution_count": 2,
     "metadata": {},
     "output_type": "execute_result"
    }
   ],
   "source": [
    "def myfilter(own_func, lst):\n",
    "    result = []\n",
    "    for i in lst:\n",
    "        if own_func(i):\n",
    "            result.append(i)\n",
    "    return result\n",
    " \n",
    "def ispositive(x):\n",
    "    if (x <= 0):\n",
    "        return False \n",
    "    else:\n",
    "        return True\n",
    "  \n",
    "myfilter(ispositive, [0,1,-1,2,-2,3,-3,4,-4,5])"
   ]
  },
  {
   "cell_type": "markdown",
   "metadata": {},
   "source": [
    "2. Implement List comprehensions to produce the following lists.\n",
    "['A', 'C', 'A', 'D', 'G', 'I', ’L’, ‘ D’]\n",
    "['x', 'xx', 'xxx', 'xxxx', 'y', 'yy', 'yyy', 'yyyy', 'z', 'zz', 'zzz', 'zzzz']\n",
    "['x', 'y', 'z', 'xx', 'yy', 'zz', 'xxx', 'yyy', 'zzz', 'xxxx', 'yyyy', 'zzzz']\n",
    "[[2], [3], [4], [3], [4], [5], [4], [5], [6]]\n",
    "[[2, 3, 4, 5], [3, 4, 5, 6], [4, 5, 6, 7], [5, 6, 7, 8]]\n",
    "[(1, 1), (2, 1), (3, 1), (1, 2), (2, 2), (3, 2), (1, 3), (2, 3), (3, 3)]"
   ]
  },
  {
   "cell_type": "code",
   "execution_count": 6,
   "metadata": {},
   "outputs": [
    {
     "name": "stdout",
     "output_type": "stream",
     "text": [
      "ACADGILD => ['A', 'C', 'A', 'D', 'G', 'I', 'L', 'D']\n",
      "['x','y','z'] => ['x', 'xx', 'xxx', 'xxxx', 'y', 'yy', 'yyy', 'yyyy', 'z', 'zz', 'zzz', 'zzzz']\n",
      "['x','y','z'] => ['x', 'y', 'z', 'xx', 'yy', 'zz', 'xxx', 'yyy', 'zzz', 'xxxx', 'yyyy', 'zzzz']\n",
      "[2,3,4] =>[[2], [3], [4], [3], [4], [5], [4], [5], [6]]\n",
      "[2,3,4,5] =>[[2, 3, 4, 5], [3, 4, 5, 6], [4, 5, 6, 7], [5, 6, 7, 8]]\n",
      "[1,2,3] =>[(1, 1), (2, 1), (3, 1), (1, 2), (2, 2), (3, 2), (1, 3), (2, 3), (3, 3)]\n"
     ]
    }
   ],
   "source": [
    "inp = \"ACADGILD\"\n",
    "out = [i for i in inp]\n",
    "print (\"ACADGILD => \" + str(out))\n",
    "\n",
    "inp = ['x','y','z']\n",
    "out = [i*num for i in inp for num in range(1,5)]\n",
    "print(\"['x','y','z'] => \" +   str(out))\n",
    "\n",
    "inp = ['x','y','z']\n",
    "out = [i*num for num in range(1,5) for i in inp]\n",
    "print(\"['x','y','z'] => \" +   str(out))\n",
    "\n",
    "inp = [2,3,4]\n",
    "out = [[i+num] for i in inp for num in range(0,3)]\n",
    "print(\"[2,3,4] =>\" +  str(out))\n",
    "\n",
    "inp = [2,3,4,5]\n",
    "out = [[i+num for i in inp] for num in range(0,4)]\n",
    "print(\"[2,3,4,5] =>\" +  str(out))\n",
    "\n",
    "inp=[1,2,3]\n",
    "out = [(b,a) for a in inp for b in inp]\n",
    "print(\"[1,2,3] =>\" +  str(out))"
   ]
  }
 ],
 "metadata": {
  "kernelspec": {
   "display_name": "Python 3",
   "language": "python",
   "name": "python3"
  },
  "language_info": {
   "codemirror_mode": {
    "name": "ipython",
    "version": 3
   },
   "file_extension": ".py",
   "mimetype": "text/x-python",
   "name": "python",
   "nbconvert_exporter": "python",
   "pygments_lexer": "ipython3",
   "version": "3.7.0"
  }
 },
 "nbformat": 4,
 "nbformat_minor": 2
}
